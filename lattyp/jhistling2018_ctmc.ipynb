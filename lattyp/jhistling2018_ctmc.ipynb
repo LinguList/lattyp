{
 "cells": [
  {
   "cell_type": "code",
   "execution_count": null,
   "metadata": {},
   "outputs": [],
   "source": [
    "import matplotlib\n",
    "import numpy as np\n",
    "import matplotlib.pyplot as plt\n",
    "%matplotlib inline\n",
    "\n",
    "import matplotlib as mpl\n",
    "font = {\"family\": \"IPAexGothic\"}\n",
    "#font = {\"family\": \"TakaoGothic\"}\n",
    "mpl.rc('font', **font)"
   ]
  },
  {
   "cell_type": "code",
   "execution_count": null,
   "metadata": {},
   "outputs": [],
   "source": [
    "import matplotlib.font_manager as fm\n",
    "fm.findSystemFonts()"
   ]
  },
  {
   "cell_type": "code",
   "execution_count": null,
   "metadata": {},
   "outputs": [],
   "source": [
    "from ctmc import TwoStateCTMC\n",
    "\n",
    "ctmc = TwoStateCTMC([0.002, 0.003])"
   ]
  },
  {
   "cell_type": "code",
   "execution_count": null,
   "metadata": {},
   "outputs": [],
   "source": [
    "xs = np.arange(0.0, 1000.0, 10.0)\n",
    "ys = np.array(list(map(lambda x: ctmc.get_transition_probs(x), xs)))\n",
    "logys = np.log(ys + 1E-100)\n",
    "\n",
    "plt.figure(1)\n",
    "plt.subplot(221)\n",
    "plt.subplots_adjust(left=None, bottom=None, right=None, top=None, wspace=0.4, hspace=0.4)\n",
    "plt.xlim([0.1, 1000])\n",
    "plt.ylim([0.0, 1.0])\n",
    "plt.plot(xs, ys[:,0,0], linewidth=2, label=\"0 to 0\")\n",
    "plt.plot(xs, ys[:,0,1], \"r:\", linewidth=2, label=\"0 to 1\")\n",
    "plt.legend(loc=\"upper right\", fontsize=8)\n",
    "plt.xlabel(u\"(a)\", size=12)\n",
    "plt.ylabel(u\"確率\", size=10)\n",
    "\n",
    "plt.subplot(223)\n",
    "plt.subplots_adjust(left=None, bottom=None, right=None, top=None, wspace=0.4, hspace=0.4)\n",
    "plt.xlim([0.1, 1000])\n",
    "plt.ylim([-3.0, 0.0])\n",
    "plt.yticks(np.arange(-3.0, 1.0, 1.0))\n",
    "plt.plot(xs, logys[:,0,0], linewidth=2, label=\"0 to 0\")\n",
    "plt.plot(xs, logys[:,0,1], \"r:\", linewidth=2, label=\"0 to 1\")\n",
    "plt.legend(loc=\"lower right\", fontsize=8)\n",
    "plt.xlabel(u\"(c)\", size=12)\n",
    "plt.ylabel(u\"点数 (対数確率)\", size=10)\n",
    "\n",
    "plt.subplot(222)\n",
    "plt.subplots_adjust(left=None, bottom=None, right=None, top=None, wspace=0.4, hspace=0.4)\n",
    "plt.xlim([0.1, 1000])\n",
    "plt.ylim([0.0, 1.0])\n",
    "plt.plot(xs, ys[:,1,0], linewidth=2, label=\"1 to 0\")\n",
    "plt.plot(xs, ys[:,1,1], \"r:\", linewidth=2, label=\"1 to 1\")\n",
    "plt.legend(loc=\"upper right\", fontsize=8)\n",
    "plt.xlabel(u\"(b)\", size=12)\n",
    "plt.ylabel(u\"確率\", size=10)\n",
    "\n",
    "plt.subplot(224)\n",
    "plt.subplots_adjust(left=None, bottom=None, right=None, top=None, wspace=0.4, hspace=0.4)\n",
    "plt.xlim([0.1, 1000])\n",
    "plt.ylim([-3.0, 0.0])\n",
    "plt.yticks(np.arange(-3.0, 1.0, 1.0))\n",
    "plt.plot(xs, logys[:,1,0], linewidth=2, label=\"1 to 0\")\n",
    "plt.plot(xs, logys[:,1,1], \"r:\", linewidth=2, label=\"1 to 1\")\n",
    "plt.legend(loc=\"lower right\", fontsize=8)\n",
    "plt.xlabel(u\"(d)\", size=12)\n",
    "plt.ylabel(u\"点数 (対数確率)\", size=10)\n",
    "\n",
    "plt.savefig('ctmc.pdf', bbox_inches=\"tight\")"
   ]
  }
 ],
 "metadata": {
  "kernelspec": {
   "display_name": "Python 2",
   "language": "python",
   "name": "python2"
  },
  "language_info": {
   "codemirror_mode": {
    "name": "ipython",
    "version": 2
   },
   "file_extension": ".py",
   "mimetype": "text/x-python",
   "name": "python",
   "nbconvert_exporter": "python",
   "pygments_lexer": "ipython2",
   "version": "2.7.15rc1"
  }
 },
 "nbformat": 4,
 "nbformat_minor": 2
}
